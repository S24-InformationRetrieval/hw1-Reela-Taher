{
 "cells": [
  {
   "cell_type": "code",
   "execution_count": 1,
   "metadata": {},
   "outputs": [],
   "source": [
    "# ES built-in to Read and Run All Queries\n",
    "\n",
    "# Required Imports\n",
    "from elasticsearch import Elasticsearch\n",
    "import string\n",
    "\n",
    "es = Elasticsearch(['http://localhost:9200/'])\n",
    "\n",
    "index_name = \"ap89\""
   ]
  },
  {
   "cell_type": "code",
   "execution_count": 2,
   "metadata": {},
   "outputs": [],
   "source": [
    "# Loads stop words within provided file\n",
    "stopword_path = '/Users/reelataher/hw1-Reela-Taher/IR_data/AP_DATA/stoplist.txt'  \n",
    "\n",
    "with open(stopword_path) as f:\n",
    "  stop_words = set(f.read().split())\n",
    "  \n",
    "# Set stopwords to list\n",
    "stop_words = list(stop_words)"
   ]
  },
  {
   "cell_type": "code",
   "execution_count": 3,
   "metadata": {},
   "outputs": [],
   "source": [
    "# Path to the directory containing the query file\n",
    "query_path = '/Users/reelataher/hw1-Reela-Taher/IR_data/AP_DATA/query_desc.51-100.short.txt'"
   ]
  },
  {
   "cell_type": "code",
   "execution_count": 4,
   "metadata": {},
   "outputs": [],
   "source": [
    "# Function to preprocess queries\n",
    "def process_query(query):\n",
    "\n",
    "  # Lowercase \n",
    "  query = query.lower()\n",
    "  \n",
    "  # Remove punctuation\n",
    "  query = query.translate(str.maketrans('', '', string.punctuation))   \n",
    "\n",
    "  # Tokenize on spaces\n",
    "  words = query.split(' ')\n",
    "\n",
    "  # Remove stopwords\n",
    "  filtered = [word for word in words if word not in stop_words]\n",
    "\n",
    "  # Join back to string\n",
    "  processed_query = \" \".join(filtered)\n",
    "\n",
    "  return processed_query"
   ]
  },
  {
   "cell_type": "code",
   "execution_count": 5,
   "metadata": {},
   "outputs": [],
   "source": [
    "# Function to read and return queries from txt file\n",
    "def read_query(filename):\n",
    "\n",
    "    # Initialize empty dictionary to store queries \n",
    "    queries = {} \n",
    "\n",
    "    # Read file line by line\n",
    "    with open(filename, 'r') as file:\n",
    "        \n",
    "        for line in file:\n",
    "            if not line.strip(): \n",
    "                continue\n",
    "\n",
    "            # Split line to get query number and text\n",
    "            attributes = line.split('.', 1)  \n",
    "\n",
    "            # Extract query number and text\n",
    "            query_number = attributes[0].strip()  \n",
    "            query = attributes[1].strip()\n",
    "\n",
    "            # Process query text\n",
    "            processed_query = process_query(query)\n",
    "            \n",
    "            # Store processed query text with query number as key\n",
    "            queries[query_number] = processed_query\n",
    "    \n",
    "    # Return dictionary of queries\n",
    "    return queries"
   ]
  },
  {
   "cell_type": "code",
   "execution_count": 6,
   "metadata": {},
   "outputs": [],
   "source": [
    "# Search Elasticsearch index using match query \n",
    "def es_search(query):\n",
    "    \n",
    "    # Send match query to Elasticsearch\n",
    "    result = es.search(index=index_name, body={'query': {'match': {'text': query}}}, size=1000)\n",
    "\n",
    "    # Return the hits\n",
    "    return result.get('hits', {}).get('hits', [])"
   ]
  },
  {
   "cell_type": "code",
   "execution_count": 7,
   "metadata": {},
   "outputs": [],
   "source": [
    "# Process results from ES with specified format\n",
    "def process_results(query_number, hits):\n",
    "  \n",
    "  output = []\n",
    "\n",
    "  # Initialize the rank\n",
    "  rank = 1\n",
    "\n",
    "  # Check if there are hits\n",
    "  if hits:\n",
    "\n",
    "    # Iterate through the hits  \n",
    "    for hit in hits:\n",
    "      \n",
    "      # Get values from hit\n",
    "      docno = hit['_source']['DOCNO']\n",
    "      score = hit.get('_score', 0)  # Use get to handle the case when '_score' is not present\n",
    "    \n",
    "      # Create output line \n",
    "      output_line = f\"{query_number} Q0 {docno} {rank} {score} Exp\\n\"\n",
    "      \n",
    "      output.append(output_line)\n",
    "      \n",
    "      # Increment rank\n",
    "      rank += 1\n",
    "  \n",
    "  # Return complete output \n",
    "  return output"
   ]
  },
  {
   "cell_type": "code",
   "execution_count": 8,
   "metadata": {},
   "outputs": [],
   "source": [
    "# Defines directory to add new file\n",
    "output_path = '/Users/reelataher/hw1-Reela-Taher/Deliverables'\n",
    "\n",
    "# Takes output string from search and writes it to a text file in the specified output directory\n",
    "def output_txt(filename, results):\n",
    "    with open(output_path + '/'+ filename + '.txt', 'w') as file:\n",
    "        file.write(results)"
   ]
  },
  {
   "cell_type": "code",
   "execution_count": null,
   "metadata": {},
   "outputs": [],
   "source": []
  },
  {
   "cell_type": "code",
   "execution_count": 11,
   "metadata": {},
   "outputs": [],
   "source": [
    "# Read queries\n",
    "queries = read_query(query_path)\n",
    "\n",
    "# Initialize results list\n",
    "result = ''\n",
    "\n",
    "# Process each query\n",
    "for query_number, query_text in queries.items():\n",
    "    \n",
    "    # Search\n",
    "    hits = es_search(query_text)\n",
    "    \n",
    "    # Process results\n",
    "    query_results = process_results(query_number, hits)\n",
    "    result += ''.join(query_results)\n",
    "\n",
    "# Write results to a text file\n",
    "output_file = \"query_ES_builtin\"\n",
    "output_txt(output_file, result)"
   ]
  }
 ],
 "metadata": {
  "kernelspec": {
   "display_name": "Python 3",
   "language": "python",
   "name": "python3"
  },
  "language_info": {
   "codemirror_mode": {
    "name": "ipython",
    "version": 3
   },
   "file_extension": ".py",
   "mimetype": "text/x-python",
   "name": "python",
   "nbconvert_exporter": "python",
   "pygments_lexer": "ipython3",
   "version": "3.8.0"
  }
 },
 "nbformat": 4,
 "nbformat_minor": 2
}
