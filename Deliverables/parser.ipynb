{
 "cells": [
  {
   "cell_type": "code",
   "execution_count": 1,
   "metadata": {},
   "outputs": [],
   "source": [
    "# Required Imports\n",
    "import os\n",
    "from nltk.stem import PorterStemmer\n",
    "\n",
    "# Library to remove the suffixes from an English word and obtain its stem\n",
    "parser = PorterStemmer()\n",
    "\n",
    "# Path to the directory containing the files\n",
    "directory_path = '/Users/reelataher/hw1-Reela-Taher/IR_data/AP_DATA/ap89_collection'"
   ]
  },
  {
   "cell_type": "code",
   "execution_count": 2,
   "metadata": {},
   "outputs": [],
   "source": [
    "# Function to parse all documents within directory\n",
    "def parse_docs():\n",
    "\n",
    "  # Initialize dictionary to input all extracted documents\n",
    "  documents = []\n",
    "  \n",
    "  # Store all files within a variable using the os module\n",
    "  for filename in os.listdir(directory_path):\n",
    "  \n",
    "    # Construct the full path of the file\n",
    "    file_path = os.path.join(directory_path, filename)\n",
    "    \n",
    "    # Open each file in the ap89_collection directory for reading\n",
    "    with open(file_path, 'r', encoding='ISO-8859-1') as file:\n",
    "    \n",
    "      # Initialize what one document should contain, document ID and body\n",
    "      single_doc = {'DOCNO': '', 'text': ''}\n",
    "      texts = []\n",
    "      inside_text = True\n",
    "      current_text = ''\n",
    "      \n",
    "      # Parsing every individual file\n",
    "      for line in file:\n",
    "      \n",
    "        # Checks if this is the beginning of a document and initializes an empty dictionary\n",
    "        if line.startswith('<DOC>'):\n",
    "          single_doc = {'DOCNO': '', 'text': ''} \n",
    "          texts = []\n",
    "          \n",
    "        # Reads that this is the document ID and stores this in a variable\n",
    "        elif line.startswith('<DOCNO>'):\n",
    "          single_doc['DOCNO'] = line.split('<DOCNO>')[1].split('</DOCNO>')[0].strip()\n",
    "        \n",
    "        # Reads that this is the body of the document and appends found text\n",
    "        elif line.startswith('<TEXT>'):\n",
    "          inside_text = True\n",
    "          current_text = ''\n",
    "        \n",
    "        # Reads that this is the end of the document and stores the final content\n",
    "        elif line.startswith('</TEXT>'):\n",
    "          inside_text = False\n",
    "          texts.append(current_text.strip())\n",
    "\n",
    "        elif inside_text:\n",
    "          current_text += line + ' '\n",
    "        \n",
    "        # Reads that this is the end of the document and stems all wards user parser\n",
    "        elif line.startswith('</DOC>'):\n",
    "          single_doc['text'] = parser.stem(' '.join(texts)) \n",
    "          documents.append(single_doc)\n",
    "\n",
    "  # Returns dictionary of all parsed documents\n",
    "  return documents"
   ]
  }
 ],
 "metadata": {
  "kernelspec": {
   "display_name": "Python 3",
   "language": "python",
   "name": "python3"
  },
  "language_info": {
   "codemirror_mode": {
    "name": "ipython",
    "version": 3
   },
   "file_extension": ".py",
   "mimetype": "text/x-python",
   "name": "python",
   "nbconvert_exporter": "python",
   "pygments_lexer": "ipython3",
   "version": "3.11.4"
  }
 },
 "nbformat": 4,
 "nbformat_minor": 2
}
